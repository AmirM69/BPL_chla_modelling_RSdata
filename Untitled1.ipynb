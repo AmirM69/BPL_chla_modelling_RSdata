{
 "cells": [
  {
   "cell_type": "code",
   "execution_count": 1,
   "metadata": {},
   "outputs": [],
   "source": [
    "import pandas as pd\n",
    "import os, fnmatch\n",
    "\n",
    "listOfFiles = os.listdir('../')\n",
    "pattern = \"*_L2W.nc\"\n",
    "img_list = []\n",
    "for entry in listOfFiles:\n",
    "    if fnmatch.fnmatch(entry, pattern):\n",
    "            img_list.append(entry)\n",
    "        \n"
   ]
  },
  {
   "cell_type": "code",
   "execution_count": 2,
   "metadata": {
    "scrolled": true
   },
   "outputs": [
    {
     "data": {
      "text/plain": [
       "(42440, 12)"
      ]
     },
     "execution_count": 2,
     "metadata": {},
     "output_type": "execute_result"
    }
   ],
   "source": [
    "from netCDF4 import Dataset\n",
    "sat_data = pd.DataFrame()\n",
    "img_number = 0\n",
    "for img in img_list:\n",
    "    dataset = Dataset('../' + img)\n",
    "    \n",
    "    dataset.variables.keys()\n",
    "    date = dataset.isodate[:10]\n",
    "\n",
    "    keys = dataset.variables.keys()\n",
    "    size = dataset.dimensions['x'].size * dataset.dimensions['y'].size\n",
    "    values = np.empty([size, len(keys)], dtype=float)\n",
    "    \n",
    "    i = 0\n",
    "    water_mask_2D = dataset.variables['l2_flags'][:]==0\n",
    "    water_mask = water_mask_2D.flatten()\n",
    "    numbre_of_water_pixels = np.sum(water_mask)\n",
    "\n",
    "\n",
    "    for key in keys:\n",
    "        values[: , i] = dataset.variables[key][:].flatten()\n",
    "        i += 1\n",
    "    df = pd.DataFrame(data = values[water_mask], columns = keys, index = range(0,numbre_of_water_pixels))\n",
    "    \n",
    "    df['img_count'] = img_number\n",
    "    df['Date'] = date\n",
    "    sat_data = pd.concat([sat_data, df], axis = 0)\n",
    "    img_number += 1\n",
    "    \n",
    "sat_data.shape"
   ]
  },
  {
   "cell_type": "code",
   "execution_count": 22,
   "metadata": {},
   "outputs": [
    {
     "name": "stdout",
     "output_type": "stream",
     "text": [
      "-105.8035\n",
      "50.769135\n",
      "1\n",
      "nan\n",
      "nan\n",
      "nan\n",
      "nan\n",
      "nan\n",
      "nan\n",
      "nan\n"
     ]
    }
   ],
   "source": [
    "keys = dataset.variables.keys()\n",
    "for key in keys:\n",
    "    a=dataset.variables[key][:].flatten()\n",
    "    print(a[1])"
   ]
  },
  {
   "cell_type": "code",
   "execution_count": 31,
   "metadata": {},
   "outputs": [
    {
     "data": {
      "text/plain": [
       "True"
      ]
     },
     "execution_count": 31,
     "metadata": {},
     "output_type": "execute_result"
    }
   ],
   "source": [
    "'Rrs' in key"
   ]
  },
  {
   "cell_type": "code",
   "execution_count": null,
   "metadata": {},
   "outputs": [],
   "source": []
  },
  {
   "cell_type": "code",
   "execution_count": 3,
   "metadata": {},
   "outputs": [],
   "source": [
    "sat_data.to_csv('S2_L2W_acolite_2014-2019.csv', index=False)"
   ]
  },
  {
   "cell_type": "code",
   "execution_count": null,
   "metadata": {},
   "outputs": [],
   "source": []
  }
 ],
 "metadata": {
  "kernelspec": {
   "display_name": "Python 3",
   "language": "python",
   "name": "python3"
  },
  "language_info": {
   "codemirror_mode": {
    "name": "ipython",
    "version": 3
   },
   "file_extension": ".py",
   "mimetype": "text/x-python",
   "name": "python",
   "nbconvert_exporter": "python",
   "pygments_lexer": "ipython3",
   "version": "3.6.12"
  },
  "varInspector": {
   "cols": {
    "lenName": 16,
    "lenType": 16,
    "lenVar": 40
   },
   "kernels_config": {
    "python": {
     "delete_cmd_postfix": "",
     "delete_cmd_prefix": "del ",
     "library": "var_list.py",
     "varRefreshCmd": "print(var_dic_list())"
    },
    "r": {
     "delete_cmd_postfix": ") ",
     "delete_cmd_prefix": "rm(",
     "library": "var_list.r",
     "varRefreshCmd": "cat(var_dic_list()) "
    }
   },
   "types_to_exclude": [
    "module",
    "function",
    "builtin_function_or_method",
    "instance",
    "_Feature"
   ],
   "window_display": false
  }
 },
 "nbformat": 4,
 "nbformat_minor": 4
}
